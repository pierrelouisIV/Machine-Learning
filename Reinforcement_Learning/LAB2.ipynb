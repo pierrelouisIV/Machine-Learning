{
 "cells": [
  {
   "cell_type": "markdown",
   "id": "a1de4652",
   "metadata": {},
   "source": [
    "# Reinforcement Learning :\n",
    "\n",
    "## Pre-Lab : Value Iteration (VI)\n",
    "\n",
    "- Implement the V.I algorithm with the Bellman Equation \n",
    "$$ V^{\\pi}(s) = R(s) + \\gamma \\sum_{s'} P_{s\\pi(s)}(s')V^{\\pi}(s') $$\n",
    "\n",
    "- V.I algorithm, for each state compute : \n",
    "$$ V(S) = R(S) + \\gamma\\max_a \\sum_{S'} Psa(S')V(s') $$"
   ]
  },
  {
   "cell_type": "code",
   "execution_count": 2,
   "id": "dce89f76",
   "metadata": {},
   "outputs": [],
   "source": [
    "# library pythons :\n",
    "import random\n",
    "import numpy as np\n",
    "import seaborn as sns\n",
    "from tkinter import *"
   ]
  },
  {
   "cell_type": "code",
   "execution_count": 3,
   "id": "98dc5bf2",
   "metadata": {},
   "outputs": [],
   "source": [
    "# Init the map of 11 cells\n",
    "S = [(0,0), (0,1), (0,2), (0,3),\n",
    "     (1,0),        (1,2), (1,3),\n",
    "     (2,0), (2,1), (2,2), (2,3) ]\n",
    "\n",
    "# All possible transitions\n",
    "S__ = {(0,0): [(0,0), (0,1), (1,0)],\n",
    "       (1,0): [(1,0), (0,0), (2,0)],\n",
    "       (2,0): [(2,0), (1,0), (2,1)],\n",
    "       (0,1): [(0,0), (0,1), (0,2)],\n",
    "       (0,2): [(0,1), (0,2), (0,3), (1,2)],\n",
    "       (2,3): [(2,2), (2,3), (1,3)],\n",
    "       (2,2): [(2,1), (2,2), (2,3), (1,2)],\n",
    "       (2,1): [(2,0), (2,1), (2,2)],\n",
    "       (1,2): [(0,2), (1,2), (2,2), (1,3)],\n",
    "       (1,3): [(1,3)],\n",
    "       (0,3): [(0,3)]}\n",
    "\n",
    "\n",
    "# Init the V matrix\n",
    "V = np.zeros((3,4))\n",
    "\n",
    "# Init the Action set\n",
    "A = ['N', 'S', 'E', 'W']\n",
    "\n",
    "# State transition distribution\n",
    "def Psa(s, a, s_prime):\n",
    "    prob_N = np.array([[0.0, 0.8, 0.0],\n",
    "                       [0.1, 0.0, 0.1],\n",
    "                       [0.0, 0.0, 0.0]])\n",
    "    \n",
    "    prob_S = np.array([[0.0, 0.0, 0.0],\n",
    "                       [0.1, 0.0, 0.1],\n",
    "                       [0.0, 0.8, 0.0]])\n",
    "    \n",
    "    prob_E = np.array([[0.0, 0.1, 0.0],\n",
    "                       [0.0, 0.0, 0.8],\n",
    "                       [0.0, 0.1, 0.0]])\n",
    "    \n",
    "    prob_W = np.array([[0.0, 0.1, 0.0],\n",
    "                       [0.8, 0.0, 0.0],\n",
    "                       [0.0, 0.1, 0.0]])\n",
    "    i = s_prime[0] - s[0] + 1\n",
    "    j = s_prime[1] - s[1] + 1\n",
    "    \n",
    "    # \n",
    "    if (a == 'N'):\n",
    "        return prob_N[i][j]\n",
    "    elif (a == 'S'):\n",
    "        return prob_S[i][j]\n",
    "    elif (a == 'E'):\n",
    "        return prob_E[i][j]\n",
    "    elif (a == 'W'):\n",
    "        return prob_W[i][j]\n",
    "    \n",
    "    \n",
    "# Reward function\n",
    "def R(s):\n",
    "    if (s == (0,3)):\n",
    "        return 1\n",
    "    elif (s == (1,3)):\n",
    "        return -1\n",
    "    else:\n",
    "        return -0.02\n",
    "    \n",
    "# The discount factor\n",
    "gamma = 0.99"
   ]
  },
  {
   "cell_type": "markdown",
   "id": "80758670",
   "metadata": {},
   "source": [
    "### Test of the Value Iteration"
   ]
  },
  {
   "cell_type": "code",
   "execution_count": 4,
   "id": "191ea0a4",
   "metadata": {},
   "outputs": [],
   "source": [
    "i = 0\n",
    "iterations = 1000\n",
    "\n",
    "while i < iterations:\n",
    "    for state in S:\n",
    "        max_actions = list()\n",
    "        for action in A:\n",
    "            s = 0\n",
    "            for s_next in S__.get(state):\n",
    "                s += Psa(state, action, s_next) * V[s_next[0], s_next[1]]\n",
    "            max_actions.append(s)\n",
    "        V[state[0], state[1]] = R(state) + gamma * max(max_actions)\n",
    "    i += 1"
   ]
  },
  {
   "cell_type": "markdown",
   "id": "b86b7093",
   "metadata": {},
   "source": [
    "### The Optimal Value :\n",
    "$$ V \\to V^* $$"
   ]
  },
  {
   "cell_type": "code",
   "execution_count": 5,
   "id": "1cc2ee47",
   "metadata": {},
   "outputs": [
    {
     "data": {
      "text/plain": [
       "array([[ 0.5204131 ,  0.63331887,  0.82489757,  1.        ],\n",
       "       [ 0.39216717,  0.        ,  0.53431887, -1.        ],\n",
       "       [ 0.32482867,  0.34578052,  0.46184409,  0.24678052]])"
      ]
     },
     "execution_count": 5,
     "metadata": {},
     "output_type": "execute_result"
    }
   ],
   "source": [
    "V"
   ]
  },
  {
   "cell_type": "markdown",
   "id": "5da8e672",
   "metadata": {},
   "source": [
    "### The Optimal Policy :\n",
    "$$ \\Pi^* = \\argmax_{a} \\sum_{S'} Psa(S')V^*(S')$$"
   ]
  },
  {
   "cell_type": "code",
   "execution_count": 6,
   "id": "4feceffe",
   "metadata": {},
   "outputs": [],
   "source": [
    "# Optimal Policy\n",
    "PI = [['p', 'p', 'p', 'p'],\n",
    "      ['p', 'p', 'p', 'p'],\n",
    "      ['p', 'p', 'p', 'p']]\n",
    "\n",
    "for state in S:\n",
    "    max_actions2 = list()\n",
    "    for action in A:\n",
    "        s = 0\n",
    "        for s_next in S__.get(state):\n",
    "            s += Psa(state, action, s_next) * V[s_next[0], s_next[1]]\n",
    "        max_actions2.append(s)\n",
    "    PI[state[0]][state[1]] = A[np.argmax(max_actions2)]"
   ]
  },
  {
   "cell_type": "code",
   "execution_count": 7,
   "id": "25100aa3",
   "metadata": {},
   "outputs": [
    {
     "data": {
      "text/plain": [
       "<AxesSubplot:>"
      ]
     },
     "execution_count": 7,
     "metadata": {},
     "output_type": "execute_result"
    },
    {
     "data": {
      "image/png": "[encoded data removed]",
      "text/plain": [
       "<Figure size 432x288 with 2 Axes>"
      ]
     },
     "metadata": {
      "needs_background": "light"
     },
     "output_type": "display_data"
    }
   ],
   "source": [
    "sns.heatmap(V)"
   ]
  },
  {
   "cell_type": "markdown",
   "id": "69c8323c",
   "metadata": {},
   "source": [
    "### Visualization :"
   ]
  },
  {
   "cell_type": "code",
   "execution_count": 9,
   "id": "c3812132",
   "metadata": {},
   "outputs": [],
   "source": [
    "def create_arrow(c, a, pX, pY):\n",
    "    if (a == 'N'):\n",
    "        c.create_line([(50+pX,25+pY), (50+pX,75+pY)], fill=\"black\")\n",
    "        c.create_line([(50+pX,25+pY), (25+pX,50+pY)], fill=\"black\")\n",
    "        c.create_line([(50+pX,25+pY), (75+pX,50+pY)], fill=\"black\")\n",
    "    elif (a == 'S'):\n",
    "        c.create_line([(50+pX,25+pY), (50+pX,75+pY)], fill=\"black\")\n",
    "        c.create_line([(50+pX,75+pY), (25+pX,50+pY)], fill=\"black\")\n",
    "        c.create_line([(50+pX,75+pY), (75+pX,50+pY)], fill=\"black\")\n",
    "    elif (a == 'W'):\n",
    "        c.create_line([(25+pX,50+pY), (75+pX,50+pY)], fill=\"black\")\n",
    "        c.create_line([(25+pX,50+pY), (50+pX,25+pY)], fill=\"black\")\n",
    "        c.create_line([(25+pX,50+pY), (50+pX,75+pY)], fill=\"black\")\n",
    "    elif (a == 'E'):\n",
    "        c.create_line([(25+pX,50+pY), (75+pX,50+pY)], fill=\"black\")\n",
    "        c.create_line([(75+pX,50+pY), (50+pX,25+pY)], fill=\"black\")\n",
    "        c.create_line([(75+pX,50+pY), (50+pX,75+pY)], fill=\"black\")"
   ]
  },
  {
   "cell_type": "code",
   "execution_count": 11,
   "id": "e310f1f3",
   "metadata": {},
   "outputs": [],
   "source": [
    "#\n",
    "window = Tk()\n",
    "\n",
    "\n",
    "# Canvas\n",
    "canvas = Canvas(window, width=400, height=300, background='white')\n",
    "\n",
    "#\n",
    "w = 400\n",
    "h = 300\n",
    "pX = 0\n",
    "pY = 0\n",
    "\n",
    "#\n",
    "for i in range(0, w+100, 100):\n",
    "    canvas.create_line([(i, 0), (i, h)], fill=\"black\")\n",
    "    \n",
    "for j in range(0, h+100, 100):\n",
    "    canvas.create_line([(0, j), (w, j)], fill=\"black\")\n",
    "    \n",
    "#\n",
    "for i in range(3):\n",
    "    pY = 100 * i\n",
    "    for j in range(4):\n",
    "        pX = 100 * j \n",
    "        if (PI[i][j] == 'p'):\n",
    "            canvas.create_rectangle(200,200,100,100, fill=\"black\")\n",
    "        elif (i == 0 and j == 3):\n",
    "            canvas.create_rectangle(400,100,300,0, fill=\"green\")\n",
    "        elif (i == 1 and j == 3):\n",
    "            canvas.create_rectangle(400,200,300,100, fill=\"red\")\n",
    "        else:\n",
    "            create_arrow(canvas, PI[i][j], pX, pY)\n",
    "\n",
    "#\n",
    "canvas.pack()\n",
    "\n",
    "#\n",
    "window.mainloop()"
   ]
  },
  {
   "cell_type": "markdown",
   "id": "0c06c23a",
   "metadata": {},
   "source": [
    "## Lab : Policy Iteration and Q-Learning :\n",
    "\n",
    "### Functions :"
   ]
  },
  {
   "cell_type": "code",
   "execution_count": 20,
   "id": "6c1be163",
   "metadata": {},
   "outputs": [],
   "source": [
    "# obtains (S_t+1, r_t) from (S_t, a_t)\n",
    "def calculus(s_t, a_t):\n",
    "    # forbidden moves\n",
    "    if (s_t[0] == 2) and a_t == 'S':\n",
    "        return (s_t, R(s_t))\n",
    "    elif (s_t[0] == 0) and a_t == 'N':\n",
    "        return (s_t, R(s_t))\n",
    "    elif (s_t[1] == 0) and a_t == 'W':\n",
    "        return (s_t, R(s_t))\n",
    "    elif (s_t[1] == 3) and a_t == 'E':\n",
    "        return (s_t, R(s_t))\n",
    "    else:\n",
    "        # get s_t+1\n",
    "        prob = list()\n",
    "        states = list()\n",
    "        for s_next in S__.get(s_t):\n",
    "            prob.append(Psa(s_t, a_t, s_next)) # * qTable[S.index(s_next),A.index(a_t)])\n",
    "            states.append(s_next)\n",
    "        return (states[np.argmax(prob)], R(states[np.argmax(prob)]))\n",
    "\n",
    "\n",
    "#\n",
    "def selectNewAction(currentState, e, qTable):\n",
    "    \"\"\"\n",
    "    Chooses a new action according to the epsilon-greedy selection method.\n",
    "    \"\"\"\n",
    "    # Choose a random action with probability epsilon.\n",
    "    if random.random() < e:\n",
    "        return random.randint(0, 3)\n",
    "    # With probability 1-epsilon, choose the action corresponding to the maximum reward.\n",
    "    else:\n",
    "        stateIndex = S.index(currentState)\n",
    "        maxQValue = max(qTable[stateIndex])\n",
    "        # If multiple actions give the maximum value, we randomly choose one of those maximum actions.\n",
    "        maxIndexes = []\n",
    "        for i in range(4):\n",
    "            if qTable[stateIndex][i] == maxQValue:\n",
    "                maxIndexes.append(i)\n",
    "        return maxIndexes[random.randint(0, len(maxIndexes) - 1)]\n",
    "    \n",
    "def playRound(state, action, qTable, alpha):\n",
    "    \"\"\"\n",
    "    Updates the Q-Table.\n",
    "    And make the next state\n",
    "    \"\"\"\n",
    "    # Compute the next state s+1\n",
    "    (S_t_prime, r_t) = calculus(state, action)\n",
    "    \n",
    "    # indexes of Q\n",
    "    index_i = S.index(state)\n",
    "    index_j = A.index(action)\n",
    "        \n",
    "    # Bellman equation\n",
    "    stateIndex = S.index(S_t_prime)\n",
    "    qTable[index_i, index_j] = ((1 - alpha) * qTable[index_i, index_j]) + alpha * (r_t + (gamma*max(qTable[stateIndex])))\n",
    "    \n",
    "    return S_t_prime"
   ]
  },
  {
   "cell_type": "code",
   "execution_count": 31,
   "id": "7dbbca15",
   "metadata": {},
   "outputs": [],
   "source": [
    "# Init the Q matrix :\n",
    "Q = np.zeros((11,4))"
   ]
  },
  {
   "cell_type": "markdown",
   "id": "bec73200",
   "metadata": {},
   "source": [
    "### Test of Q-learning algorithm :"
   ]
  },
  {
   "cell_type": "code",
   "execution_count": 32,
   "id": "c5f8b55b",
   "metadata": {},
   "outputs": [],
   "source": [
    "# Parameters :\n",
    "iterations = 2000\n",
    "i = 0\n",
    "epsilon = 0.1\n",
    "alpha = 0.02\n",
    "\n",
    "# algorithm :\n",
    "while i < iterations:\n",
    "    S_0 = random.choice(S)\n",
    "    while (S_0 != (0, 3) and S_0 != (1, 3)):\n",
    "        \n",
    "        # Take a new action\n",
    "        new_action = A[selectNewAction(S_0, epsilon, Q)]\n",
    "        # Move to the next state and update the Q-table\n",
    "        S_0 = playRound(S_0, new_action, Q, alpha)\n",
    "        \n",
    "    i += 1"
   ]
  },
  {
   "cell_type": "markdown",
   "id": "b29899e2",
   "metadata": {},
   "source": [
    "### Optimal Q :"
   ]
  },
  {
   "cell_type": "code",
   "execution_count": 33,
   "id": "3036a0c0",
   "metadata": {},
   "outputs": [
    {
     "data": {
      "text/plain": [
       "array([[ 0.09002123,  0.09535825,  0.93923223,  0.16262049],\n",
       "       [ 0.14936367,  0.2544454 ,  0.96999423,  0.15205409],\n",
       "       [ 0.47100999,  0.57710393,  1.        ,  0.56012748],\n",
       "       [ 0.        ,  0.        ,  0.        ,  0.        ],\n",
       "       [ 0.84027417,  0.00805161,  0.03695877,  0.07555059],\n",
       "       [ 0.96999996,  0.29639626, -0.34574419,  0.36378655],\n",
       "       [ 0.        ,  0.        ,  0.        ,  0.        ],\n",
       "       [ 0.0516614 ,  0.04181905,  0.80918201,  0.01434457],\n",
       "       [ 0.04408353,  0.11310364,  0.90822188,  0.07155445],\n",
       "       [ 0.94029468,  0.1978928 ,  0.15654984,  0.15832965],\n",
       "       [-0.14923698,  0.08190376,  0.02024618,  0.85971711]])"
      ]
     },
     "execution_count": 33,
     "metadata": {},
     "output_type": "execute_result"
    }
   ],
   "source": [
    "Q"
   ]
  },
  {
   "cell_type": "markdown",
   "id": "c1227df7",
   "metadata": {},
   "source": [
    "### Get Optimal Policy :"
   ]
  },
  {
   "cell_type": "code",
   "execution_count": 34,
   "id": "fa978cd5",
   "metadata": {},
   "outputs": [],
   "source": [
    "# Optimal Policy\n",
    "PI_2 = [['p', 'p', 'p', 'p'],\n",
    "        ['p', 'p', 'p', 'p'],\n",
    "        ['p', 'p', 'p', 'p']]\n",
    "\n",
    "\n",
    "for state in S:\n",
    "    k = S.index(state)\n",
    "    PI_2[state[0]][state[1]] = A[np.argmax(Q[k,:])]\n",
    "\n",
    "#\n",
    "PI_2[0][3] = \"+1\"\n",
    "PI_2[1][3] = \"-1\""
   ]
  },
  {
   "cell_type": "code",
   "execution_count": 35,
   "id": "70aaedbd",
   "metadata": {},
   "outputs": [],
   "source": [
    "#\n",
    "window = Tk()\n",
    "\n",
    "\n",
    "# Canvas\n",
    "canvas = Canvas(window, width=400, height=300, background='white')\n",
    "\n",
    "#\n",
    "w = 400\n",
    "h = 300\n",
    "pX = 0\n",
    "pY = 0\n",
    "\n",
    "#\n",
    "for i in range(0, w+100, 100):\n",
    "    canvas.create_line([(i, 0), (i, h)], fill=\"black\")\n",
    "    \n",
    "for j in range(0, h+100, 100):\n",
    "    canvas.create_line([(0, j), (w, j)], fill=\"black\")\n",
    "    \n",
    "#\n",
    "for i in range(3):\n",
    "    pY = 100 * i\n",
    "    for j in range(4):\n",
    "        pX = 100 * j \n",
    "        if (PI_2[i][j] == 'p'):\n",
    "            canvas.create_rectangle(200,200,100,100, fill=\"black\")\n",
    "        elif (i == 0 and j == 3):\n",
    "            canvas.create_rectangle(400,100,300,0, fill=\"green\")\n",
    "        elif (i == 1 and j == 3):\n",
    "            canvas.create_rectangle(400,200,300,100, fill=\"red\")\n",
    "        else:\n",
    "            create_arrow(canvas, PI_2[i][j], pX, pY)\n",
    "\n",
    "#\n",
    "canvas.pack()\n",
    "\n",
    "#\n",
    "window.mainloop()"
   ]
  }
 ],
 "metadata": {
  "kernelspec": {
   "display_name": "Python 3 (ipykernel)",
   "language": "python",
   "name": "python3"
  },
  "language_info": {
   "codemirror_mode": {
    "name": "ipython",
    "version": 3
   },
   "file_extension": ".py",
   "mimetype": "text/x-python",
   "name": "python",
   "nbconvert_exporter": "python",
   "pygments_lexer": "ipython3",
   "version": "3.10.0"
  }
 },
 "nbformat": 4,
 "nbformat_minor": 5
}
