{
 "cells": [
  {
   "cell_type": "markdown",
   "id": "0162e3c2",
   "metadata": {},
   "source": [
    "# Feedforward Neural Network (FFNN)\n",
    "\n",
    "- Implementation of the forward propagation of a feedforward neural network (FFNN)\n",
    "- Consisting of three layers, in which the hidden layer has $K$ neurons."
   ]
  },
  {
   "cell_type": "code",
   "execution_count": 1,
   "id": "7feb7dc7",
   "metadata": {},
   "outputs": [],
   "source": [
    "# Library :\n",
    "import pandas as pd\n",
    "import numpy as np\n",
    "import seaborn as sns\n",
    "import matplotlib.pyplot as plt\n",
    "%matplotlib inline"
   ]
  },
  {
   "cell_type": "markdown",
   "id": "a28e1423",
   "metadata": {},
   "source": [
    "## Extract the data"
   ]
  },
  {
   "cell_type": "code",
   "execution_count": 2,
   "id": "a1ab7a2e",
   "metadata": {},
   "outputs": [
    {
     "name": "stdout",
     "output_type": "stream",
     "text": [
      "        X1      X2    Y\n",
      "0   1.9643  4.5957  1.0\n",
      "1   2.2753  3.8589  1.0\n",
      "2   2.9781  4.5651  1.0\n",
      "3   2.9320  3.5519  1.0\n",
      "4   3.5772  2.8560  1.0\n",
      "..     ...     ...  ...\n",
      "66  4.7483  0.7251  2.0\n",
      "67  4.2916  1.0857  2.0\n",
      "68  4.7126  0.8640  2.0\n",
      "69  4.1005  1.0058  2.0\n",
      "70  3.9601  1.4057  2.0\n",
      "\n",
      "[71 rows x 3 columns]\n",
      "['X1' 'X2' 'Y']\n"
     ]
    }
   ],
   "source": [
    "# Read the data and create DataFrame :\n",
    "df = pd.read_csv(\"data_ffnn_3classes.txt\", header=None, sep=' ', names=['X1', 'X2', 'Y'])\n",
    "\n",
    "# print the DataFrame & columns :\n",
    "print(df)\n",
    "print(df.columns.values)"
   ]
  },
  {
   "cell_type": "markdown",
   "id": "c6fe737f",
   "metadata": {},
   "source": [
    "## Create the matrix X and Y"
   ]
  },
  {
   "cell_type": "code",
   "execution_count": 3,
   "id": "d92917ab",
   "metadata": {},
   "outputs": [
    {
     "name": "stdout",
     "output_type": "stream",
     "text": [
      "Y shape :  (71, 3)\n"
     ]
    }
   ],
   "source": [
    "# Create Y array :\n",
    "df_x = df.drop('Y', inplace=False, axis=1)\n",
    "\n",
    "new = pd.get_dummies(df['Y'])\n",
    "Y = np.array(new)\n",
    "\n",
    "print(\"Y shape : \",Y.shape)"
   ]
  },
  {
   "cell_type": "markdown",
   "id": "155becab",
   "metadata": {},
   "source": [
    "## Define N, I and J :"
   ]
  },
  {
   "cell_type": "code",
   "execution_count": 4,
   "id": "9f9c1b26",
   "metadata": {},
   "outputs": [
    {
     "name": "stdout",
     "output_type": "stream",
     "text": [
      "N =  2  features and I =  71  training examples and J =  3\n"
     ]
    }
   ],
   "source": [
    "# Number of features :\n",
    "N = df_x.shape[1]\n",
    "# Number of training examples :\n",
    "I = df_x.shape[0]\n",
    "\n",
    "# Number of dimension of y variables\n",
    "J = new.shape[1]\n",
    "\n",
    "print(\"N = \",N,\" features and I = \",I,\" training examples and J = \",J)"
   ]
  },
  {
   "cell_type": "code",
   "execution_count": 5,
   "id": "0ba7d15e",
   "metadata": {},
   "outputs": [
    {
     "name": "stdout",
     "output_type": "stream",
     "text": [
      "X shape :  (71, 2)\n"
     ]
    }
   ],
   "source": [
    "# Create the matrix X :\n",
    "liste = list()\n",
    "for i in range(N):\n",
    "    liste.append(df_x.iloc[:,i])\n",
    "X = np.array(liste)\n",
    "X = X.T\n",
    "print(\"X shape : \",X.shape)"
   ]
  },
  {
   "cell_type": "markdown",
   "id": "98cb0db2",
   "metadata": {},
   "source": [
    "## Define the function F, G and Elementwise inversion"
   ]
  },
  {
   "cell_type": "code",
   "execution_count": 6,
   "id": "455fd54e",
   "metadata": {},
   "outputs": [],
   "source": [
    "# sigmoid function :\n",
    "def sigmoid(ma):\n",
    "    return 1/(1 + np.exp(-ma))\n",
    "\n",
    "    \n",
    "# the derivate functions :\n",
    "def dF(m2):\n",
    "    c = m2 * (1 - m2)\n",
    "    return c"
   ]
  },
  {
   "cell_type": "markdown",
   "id": "b725bc53",
   "metadata": {},
   "source": [
    "## Forward propagation (FWP)\n",
    "\n",
    "### Choose randomly the parameter $\\theta$ :"
   ]
  },
  {
   "cell_type": "code",
   "execution_count": 7,
   "id": "8f8f2137",
   "metadata": {},
   "outputs": [],
   "source": [
    "def init_params(k):\n",
    "    V = np.random.random((N+1,k))\n",
    "    W = np.random.random((k+1,J))\n",
    "    return W, V"
   ]
  },
  {
   "cell_type": "code",
   "execution_count": 8,
   "id": "85417447",
   "metadata": {},
   "outputs": [],
   "source": [
    "def FWP(X, Y, V, W):\n",
    "    # add the intercept\n",
    "    bias = np.ones((I,1))\n",
    "    X_b = np.c_[bias,X]\n",
    "    \n",
    "    # Linear operation with V\n",
    "    X_bb = np.dot(X_b, V)\n",
    "    \n",
    "    # First Activation function :\n",
    "    f = sigmoid(X_bb)\n",
    "    \n",
    "    # Add intercept :\n",
    "    f_b = np.c_[bias, f]\n",
    "    \n",
    "    # Linear op with W\n",
    "    f_bb = np.dot(f_b, W)\n",
    "    \n",
    "    # Second activation function :\n",
    "    g = sigmoid(f_bb)\n",
    "    return g, f, f_b, X_b\n",
    "\n",
    "\n",
    "# algorithm for finding labels :\n",
    "def find_label(matrix):\n",
    "    label = np.zeros((I,1))\n",
    "    for i in range(I):\n",
    "        label[i] = np.argmax(matrix[i])\n",
    "    return label"
   ]
  },
  {
   "cell_type": "markdown",
   "id": "2067d60a",
   "metadata": {},
   "source": [
    "### Sum of Squared Errors (SSE)\n",
    "\n",
    "$$ \\frac{1}{2} \\sum^{I}_{i=1}\\sum^{J}_{j=1}(g^{(i)}_j - y^{(i)}_j)^2 $$"
   ]
  },
  {
   "cell_type": "code",
   "execution_count": 9,
   "id": "a6957c26",
   "metadata": {},
   "outputs": [],
   "source": [
    "# Cost function (SSE) : \n",
    "def Cost_function(preds, y):\n",
    "    s = 0.0\n",
    "    for i in range(I):\n",
    "        for j in range(J):\n",
    "            tmp = preds[i,j] - y[i,j]\n",
    "            s = s + np.power(tmp, 2)\n",
    "    return s*0.5"
   ]
  },
  {
   "cell_type": "markdown",
   "id": "ba350152",
   "metadata": {},
   "source": [
    "## Part 2 :\n",
    "\n",
    "### Graph representation of the training Data :"
   ]
  },
  {
   "cell_type": "code",
   "execution_count": 10,
   "id": "258d3ea1",
   "metadata": {
    "scrolled": true
   },
   "outputs": [
    {
     "data": {
      "text/plain": [
       "<AxesSubplot:xlabel='X1', ylabel='X2'>"
      ]
     },
     "execution_count": 10,
     "metadata": {},
     "output_type": "execute_result"
    },
    {
     "data": {
      "image/png": "[encoded data removed]",
      "text/plain": [
       "<Figure size 432x288 with 1 Axes>"
      ]
     },
     "metadata": {
      "needs_background": "light"
     },
     "output_type": "display_data"
    }
   ],
   "source": [
    "sns.scatterplot(x=df['X1'], y=df['X2'], hue=df['Y'])"
   ]
  },
  {
   "cell_type": "markdown",
   "id": "9edb47f0",
   "metadata": {},
   "source": [
    "## Back Propagation (BP)\n",
    "\n",
    "- pour w : k=0,...,K en ligne et j=1,...,J en colonne\n",
    "- pour V : n=0,...,N et k=1,...,K en "
   ]
  },
  {
   "cell_type": "code",
   "execution_count": 11,
   "id": "9227d62a",
   "metadata": {},
   "outputs": [],
   "source": [
    "# dérivées partielles :\n",
    "def Gradient_V(preds, f, x_b, y, w, k, n):\n",
    "    s = 0\n",
    "    for i in range(I):\n",
    "        for j in range(J):\n",
    "            s += (preds[i,j] - y[i,j]) * dF(preds[i,j]) * w[k+1,j] * dF(f[i,k]) * x_b[i,n]\n",
    "    return s\n",
    "    \n",
    "    \n",
    "def Gradient_W(preds, f_, y, j, k):\n",
    "    s = 0\n",
    "    for i in range(I):\n",
    "        s += (preds[i,j]-y[i,j]) * dF(preds[i,j]) * f_[i,k]\n",
    "    return s"
   ]
  },
  {
   "cell_type": "code",
   "execution_count": 12,
   "id": "178536e9",
   "metadata": {},
   "outputs": [],
   "source": [
    "# Update the parameters W and V :\n",
    "\n",
    "def update_params(a1, a2, w, v, preds, f, f_, y, x_b):\n",
    "    for k in range(K+1):\n",
    "        for j in range(J):\n",
    "            w[k,j] = w[k,j] - (a1 * Gradient_W(preds, f_, y, j, k))\n",
    "\n",
    "    for n in range(N+1):\n",
    "        for k in range(K):\n",
    "            v[n,k] = v[n,k] - (a2 * Gradient_V(preds, f, x_b, y, w, k, n))\n",
    "    \n",
    "    return w, v"
   ]
  },
  {
   "cell_type": "markdown",
   "id": "290161e6",
   "metadata": {},
   "source": [
    "## Test of the Back Propagation :"
   ]
  },
  {
   "cell_type": "code",
   "execution_count": 17,
   "id": "73f7df4c",
   "metadata": {},
   "outputs": [],
   "source": [
    "iteration = 10000\n",
    "\n",
    "K = 5\n",
    "alpha1 = 0.02\n",
    "alpha2 = 0.02\n",
    "score = list()\n",
    "\n",
    "W, V = init_params(K)\n",
    "\n",
    "for itr in range(iteration+1):\n",
    "    predictions, f, f_, x_ = FWP(X, Y, V, W)\n",
    "    \n",
    "    score.append(Cost_function(predictions, Y))\n",
    "    \n",
    "    W, V = update_params(alpha1, alpha2, W, V, predictions, f, f_, Y, x_)"
   ]
  },
  {
   "cell_type": "markdown",
   "id": "26c4e958",
   "metadata": {},
   "source": [
    "### Algorithm Converges :"
   ]
  },
  {
   "cell_type": "code",
   "execution_count": 18,
   "id": "858b386e",
   "metadata": {},
   "outputs": [
    {
     "data": {
      "text/plain": [
       "[<matplotlib.lines.Line2D at 0x1d39dd31960>]"
      ]
     },
     "execution_count": 18,
     "metadata": {},
     "output_type": "execute_result"
    },
    {
     "data": {
      "image/png": "[encoded data removed]",
      "text/plain": [
       "<Figure size 432x288 with 1 Axes>"
      ]
     },
     "metadata": {
      "needs_background": "light"
     },
     "output_type": "display_data"
    }
   ],
   "source": [
    "plt.xlabel('iterations')\n",
    "plt.ylabel('Error')\n",
    "plt.plot(range(iteration+1), np.array(score))"
   ]
  },
  {
   "cell_type": "code",
   "execution_count": 20,
   "id": "9631ba0c",
   "metadata": {},
   "outputs": [
    {
     "data": {
      "text/plain": [
       "array([55.71904981, 50.07809354, 42.89523376, ...,  0.11304263,\n",
       "        0.11302839,  0.11301415])"
      ]
     },
     "execution_count": 20,
     "metadata": {},
     "output_type": "execute_result"
    }
   ],
   "source": [
    "E = np.array(score)\n",
    "E"
   ]
  },
  {
   "cell_type": "markdown",
   "id": "5fa4142a",
   "metadata": {},
   "source": [
    "### The G Matrix :"
   ]
  },
  {
   "cell_type": "code",
   "execution_count": 34,
   "id": "7891893c",
   "metadata": {},
   "outputs": [
    {
     "data": {
      "text/plain": [
       "array([[2.54893081e-03, 9.99236256e-01, 4.57077225e-03],\n",
       "       [5.36994925e-03, 9.97808661e-01, 5.49166902e-03],\n",
       "       [2.43246522e-03, 9.99371627e-01, 4.09101394e-03],\n",
       "       [6.91723271e-03, 9.97092927e-01, 5.51055468e-03],\n",
       "       [1.42849186e-01, 7.67506231e-01, 1.18561752e-02],\n",
       "       [2.90275595e-03, 9.96916454e-01, 1.03056834e-02],\n",
       "       [5.88517507e-03, 9.97608399e-01, 5.41997665e-03],\n",
       "       [2.43681632e-03, 9.99374620e-01, 4.06773782e-03],\n",
       "       [2.87281043e-03, 9.99067119e-01, 4.81684909e-03],\n",
       "       [2.45297746e-03, 9.99336638e-01, 4.23505076e-03],\n",
       "       [2.72911834e-03, 9.99160097e-01, 4.63789567e-03],\n",
       "       [1.59851666e-01, 8.82187587e-01, 6.48259852e-03],\n",
       "       [4.45833114e-03, 9.98237473e-01, 5.43474395e-03],\n",
       "       [2.65114995e-03, 9.99175641e-01, 4.68792497e-03],\n",
       "       [1.53786836e-02, 9.92458747e-01, 5.85012920e-03],\n",
       "       [2.48311862e-03, 9.99318218e-01, 4.27968011e-03],\n",
       "       [2.64081078e-03, 9.99212551e-01, 4.53497781e-03],\n",
       "       [3.21147197e-03, 9.98674922e-01, 5.59382136e-03],\n",
       "       [1.67434179e-02, 9.89521067e-01, 6.76776830e-03],\n",
       "       [2.13522937e-02, 9.89050782e-01, 5.89633929e-03],\n",
       "       [8.39228386e-01, 1.47199685e-01, 7.40072883e-03],\n",
       "       [8.39215615e-01, 1.49811122e-01, 7.26930754e-03],\n",
       "       [9.93867245e-01, 3.29037133e-03, 8.70084543e-03],\n",
       "       [9.92608085e-01, 4.17643547e-03, 8.45152320e-03],\n",
       "       [9.58249948e-01, 3.20640727e-02, 7.58541369e-03],\n",
       "       [9.84785199e-01, 8.90852727e-03, 8.50661280e-03],\n",
       "       [9.81820387e-01, 1.44363644e-03, 3.04655788e-02],\n",
       "       [9.95747967e-01, 8.00687696e-04, 1.70238352e-02],\n",
       "       [9.96128221e-01, 1.63301526e-03, 9.93947439e-03],\n",
       "       [9.97503701e-01, 7.82216680e-04, 1.23489219e-02],\n",
       "       [9.97197568e-01, 1.10904961e-03, 1.03965672e-02],\n",
       "       [9.97517502e-01, 7.97161894e-04, 1.23358809e-02],\n",
       "       [9.89661043e-01, 6.16889732e-03, 8.32556370e-03],\n",
       "       [9.87426753e-01, 7.64875792e-03, 8.33968691e-03],\n",
       "       [9.96621832e-01, 1.47878628e-03, 9.80315027e-03],\n",
       "       [9.97326615e-01, 1.01221659e-03, 1.07835362e-02],\n",
       "       [9.97580315e-01, 7.01016321e-04, 1.32859267e-02],\n",
       "       [9.97252367e-01, 1.01138370e-03, 1.11953653e-02],\n",
       "       [9.95907198e-01, 1.88445495e-03, 9.59950950e-03],\n",
       "       [9.96314766e-01, 1.59560148e-03, 1.00698010e-02],\n",
       "       [9.73146613e-01, 1.80240194e-02, 8.22862237e-03],\n",
       "       [9.86513049e-01, 8.17365934e-03, 8.43253635e-03],\n",
       "       [7.19363088e-01, 2.75781472e-01, 7.32184119e-03],\n",
       "       [9.97181778e-01, 9.98228021e-04, 1.11788277e-02],\n",
       "       [9.92832080e-01, 3.99204206e-03, 8.50268131e-03],\n",
       "       [9.69513207e-01, 4.31231983e-04, 9.15653430e-02],\n",
       "       [9.94205131e-01, 4.69311261e-04, 3.08467795e-02],\n",
       "       [9.53465686e-01, 3.65012487e-02, 7.51274827e-03],\n",
       "       [9.95908313e-01, 1.85232852e-03, 9.77295978e-03],\n",
       "       [9.97407623e-01, 8.57795590e-04, 1.22306562e-02],\n",
       "       [2.72941167e-01, 7.57384797e-01, 7.38350187e-03],\n",
       "       [5.89696596e-04, 3.83428343e-03, 9.77075821e-01],\n",
       "       [2.09846417e-02, 4.96290895e-05, 9.83419071e-01],\n",
       "       [1.06003572e-02, 1.31706066e-04, 9.80383889e-01],\n",
       "       [2.55560487e-02, 3.05179639e-05, 9.86461205e-01],\n",
       "       [2.39339162e-02, 3.84214577e-05, 9.84721151e-01],\n",
       "       [5.13916341e-02, 2.34423590e-04, 9.19813393e-01],\n",
       "       [1.04511397e-02, 1.33810820e-04, 9.80380702e-01],\n",
       "       [9.39105320e-03, 1.49178851e-04, 9.80527833e-01],\n",
       "       [2.48991888e-02, 4.06511898e-05, 9.83756992e-01],\n",
       "       [4.64809621e-03, 3.51278842e-04, 9.79232539e-01],\n",
       "       [2.46841260e-02, 3.54067132e-05, 9.85299007e-01],\n",
       "       [2.52546386e-02, 3.29052791e-05, 9.85782453e-01],\n",
       "       [1.95000226e-02, 5.73253311e-05, 9.82585822e-01],\n",
       "       [4.15926286e-05, 7.05518517e-02, 9.75334956e-01],\n",
       "       [2.58819818e-02, 2.84717088e-05, 9.87035653e-01],\n",
       "       [2.61078435e-02, 2.71647749e-05, 9.87361382e-01],\n",
       "       [2.56679632e-02, 3.00629518e-05, 9.86551327e-01],\n",
       "       [2.58716789e-02, 2.92861748e-05, 9.86718115e-01],\n",
       "       [2.60025872e-02, 2.71366440e-05, 9.87433079e-01],\n",
       "       [2.48413602e-02, 3.44518267e-05, 9.85513459e-01]])"
      ]
     },
     "execution_count": 34,
     "metadata": {},
     "output_type": "execute_result"
    }
   ],
   "source": [
    "predictions"
   ]
  },
  {
   "cell_type": "markdown",
   "id": "5a7b1b33",
   "metadata": {},
   "source": [
    "### The Optimal parameter values for  V and W :"
   ]
  },
  {
   "cell_type": "code",
   "execution_count": 18,
   "id": "f779c8b8",
   "metadata": {},
   "outputs": [
    {
     "name": "stdout",
     "output_type": "stream",
     "text": [
      "V =  [[-15.52700977   0.6557178   -2.65303268   0.82774079   0.82832602]\n",
      " [  1.61281671   0.98310031   4.25138748   1.10719485   3.99052645]\n",
      " [  3.68968783   1.54077445  -5.2963877   -0.11292707  -0.90605064]]\n",
      "W =  [[  1.53246023  -1.80986075  -1.50625529]\n",
      " [-11.07899552  12.2475461   -1.25643312]\n",
      " [  1.41129152  -1.2864716   -1.09718844]\n",
      " [ -9.44336854  -4.2477695    8.95915654]\n",
      " [ -0.0225145   -0.5650785   -0.72172276]\n",
      " [  3.15238185  -3.02332795  -1.15837312]]\n"
     ]
    }
   ],
   "source": [
    "opti_w = W\n",
    "opti_v = V\n",
    "print(\"V = \",V)\n",
    "print(\"W = \",W)"
   ]
  },
  {
   "cell_type": "markdown",
   "id": "0438e287",
   "metadata": {},
   "source": [
    "### Comparison between $\\hat{y}$  and $y$ :"
   ]
  },
  {
   "cell_type": "code",
   "execution_count": 19,
   "id": "3c433871",
   "metadata": {},
   "outputs": [
    {
     "name": "stdout",
     "output_type": "stream",
     "text": [
      "[[ True  True  True]\n",
      " [ True  True  True]\n",
      " [ True  True  True]\n",
      " [ True  True  True]\n",
      " [ True  True  True]\n",
      " [ True  True  True]\n",
      " [ True  True  True]\n",
      " [ True  True  True]\n",
      " [ True  True  True]\n",
      " [ True  True  True]\n",
      " [ True  True  True]\n",
      " [ True  True  True]\n",
      " [ True  True  True]\n",
      " [ True  True  True]\n",
      " [ True  True  True]\n",
      " [ True  True  True]\n",
      " [ True  True  True]\n",
      " [ True  True  True]\n",
      " [ True  True  True]\n",
      " [ True  True  True]\n",
      " [ True  True  True]\n",
      " [ True  True  True]\n",
      " [ True  True  True]\n",
      " [ True  True  True]\n",
      " [ True  True  True]\n",
      " [ True  True  True]\n",
      " [ True  True  True]\n",
      " [ True  True  True]\n",
      " [ True  True  True]\n",
      " [ True  True  True]\n",
      " [ True  True  True]\n",
      " [ True  True  True]\n",
      " [ True  True  True]\n",
      " [ True  True  True]\n",
      " [ True  True  True]\n",
      " [ True  True  True]\n",
      " [ True  True  True]\n",
      " [ True  True  True]\n",
      " [ True  True  True]\n",
      " [ True  True  True]\n",
      " [ True  True  True]\n",
      " [ True  True  True]\n",
      " [ True  True  True]\n",
      " [ True  True  True]\n",
      " [ True  True  True]\n",
      " [ True  True  True]\n",
      " [ True  True  True]\n",
      " [ True  True  True]\n",
      " [ True  True  True]\n",
      " [ True  True  True]\n",
      " [ True  True  True]\n",
      " [ True  True  True]\n",
      " [ True  True  True]\n",
      " [ True  True  True]\n",
      " [ True  True  True]\n",
      " [ True  True  True]\n",
      " [ True  True  True]\n",
      " [ True  True  True]\n",
      " [ True  True  True]\n",
      " [ True  True  True]\n",
      " [ True  True  True]\n",
      " [ True  True  True]\n",
      " [ True  True  True]\n",
      " [ True  True  True]\n",
      " [ True  True  True]\n",
      " [ True  True  True]\n",
      " [ True  True  True]\n",
      " [ True  True  True]\n",
      " [ True  True  True]\n",
      " [ True  True  True]\n",
      " [ True  True  True]]\n"
     ]
    }
   ],
   "source": [
    "predicted_output = np.around(predictions)\n",
    "predicted_output = predicted_output\n",
    "comp = predicted_output == Y\n",
    "print(comp)"
   ]
  },
  {
   "cell_type": "markdown",
   "id": "286bf3b2",
   "metadata": {},
   "source": [
    "### Test Prediction :"
   ]
  },
  {
   "cell_type": "code",
   "execution_count": 20,
   "id": "2d89eb52",
   "metadata": {},
   "outputs": [
    {
     "name": "stdout",
     "output_type": "stream",
     "text": [
      "[[9.97283353e-01 1.36679702e-03 1.24956554e-02]\n",
      " [6.84194660e-03 9.96015369e-01 3.26840776e-03]\n",
      " [1.72260758e-02 3.78294784e-05 9.87877601e-01]]\n"
     ]
    }
   ],
   "source": [
    "X_test = np.array([[2.0,2.0],\n",
    "                   [4.0,4.0],\n",
    "                   [4.5,1.5]])\n",
    "\n",
    "# number of test data :\n",
    "I = 3\n",
    "\n",
    "# fwp :\n",
    "results = FWP(X_test, Y, opti_v, opti_w)\n",
    "\n",
    "\n",
    "print(results[0])\n",
    "\n",
    "# some transformation :\n",
    "estimated_output = find_label(results[0])\n",
    "estimated_output = estimated_output.reshape(3,)"
   ]
  },
  {
   "cell_type": "markdown",
   "id": "2e75f361",
   "metadata": {},
   "source": [
    "### Graph :"
   ]
  },
  {
   "cell_type": "code",
   "execution_count": 21,
   "id": "e6c1618a",
   "metadata": {},
   "outputs": [
    {
     "data": {
      "text/plain": [
       "<AxesSubplot:>"
      ]
     },
     "execution_count": 21,
     "metadata": {},
     "output_type": "execute_result"
    },
    {
     "data": {
      "image/png": "[encoded data removed]",
      "text/plain": [
       "<Figure size 432x288 with 1 Axes>"
      ]
     },
     "metadata": {},
     "output_type": "display_data"
    }
   ],
   "source": [
    "sns.set_theme(style='darkgrid')\n",
    "sns.scatterplot(x=X_test[:,0], y=X_test[:,1], hue=estimated_output, palette='deep')"
   ]
  },
  {
   "cell_type": "code",
   "execution_count": null,
   "id": "27c0c795",
   "metadata": {},
   "outputs": [],
   "source": []
  }
 ],
 "metadata": {
  "kernelspec": {
   "display_name": "Python 3 (ipykernel)",
   "language": "python",
   "name": "python3"
  },
  "language_info": {
   "codemirror_mode": {
    "name": "ipython",
    "version": 3
   },
   "file_extension": ".py",
   "mimetype": "text/x-python",
   "name": "python",
   "nbconvert_exporter": "python",
   "pygments_lexer": "ipython3",
   "version": "3.10.0"
  }
 },
 "nbformat": 4,
 "nbformat_minor": 5
}
